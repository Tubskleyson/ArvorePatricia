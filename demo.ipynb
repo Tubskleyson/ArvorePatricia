{
 "cells": [
  {
   "cell_type": "markdown",
   "metadata": {},
   "source": [
    "# Árvore Patrícia"
   ]
  },
  {
   "cell_type": "markdown",
   "metadata": {},
   "source": [
    "**Apresentação para o seminário da disciplina Projeto de Algoritmos II**"
   ]
  },
  {
   "cell_type": "markdown",
   "metadata": {},
   "source": [
    "## Integrantes"
   ]
  },
  {
   "cell_type": "markdown",
   "metadata": {},
   "source": [
    "- Eduardo Gil Serrão Cardoso\n",
    "- Gabriela Souza Maximino\n",
    "- Igor Matheus Souza Moreira\n",
    "- Marco Aurélio Lima do Nascimento Júnior"
   ]
  },
  {
   "cell_type": "markdown",
   "metadata": {},
   "source": [
    "## Agenda"
   ]
  },
  {
   "cell_type": "markdown",
   "metadata": {},
   "source": [
    "- [Introdução](#Introdução)\n",
    "    - [Pesquisa Digital](#Pesquisa-Digital)\n",
    "    - [Árvore PATRICIA](#Árvore-PATRICIA)\n",
    "- [Definições e propriedades]()\n",
    "- [Operações e complexidade]()\n",
    "- [Comparação com outras estruturas de dados]()\n",
    "- [Aplicações]()\n",
    "- [Conclusões]()\n",
    "- [Referências]()"
   ]
  },
  {
   "cell_type": "markdown",
   "metadata": {},
   "source": [
    "## Introdução"
   ]
  },
  {
   "cell_type": "markdown",
   "metadata": {},
   "source": [
    "- Tem-se uma maior capacidade de armazenamento em dispositivos de memória (primária e secundária);\n",
    "- Arquivos de grande conteúdo (que estão na RAM) puderam ser manipulados;\n",
    "\n",
    "\n",
    "- **Problema:** como recuperar uma informação em meio a tantas dentro desse arquivo?\n",
    "- **Solução:** métodos de pesquisa: sequencial, binária… e **pesquisa digital!**"
   ]
  },
  {
   "cell_type": "markdown",
   "metadata": {},
   "source": [
    "### Pesquisa Digital"
   ]
  },
  {
   "cell_type": "markdown",
   "metadata": {},
   "source": [
    "- Arquivos são divididos em registros. Cada registro possui uma chave;\n",
    "- O **objetivo das pesquisas** em geral é encontrar, baseado em uma chave de busca, chaves iguais no arquivo;\n",
    "- A busca digital consiste em representar essas chaves como dígitos, podendo ser divisíveis;\n",
    "- A estrutura básica para uma pesquisa digital é a árvore digital;\n",
    "- As árvores digitais também são conhecidas como Trie (re**TRIE**val);\n",
    "- A **árvore PATRICIA** é uma árvore digital!"
   ]
  },
  {
   "cell_type": "markdown",
   "metadata": {},
   "source": [
    "### Árvore PATRICIA"
   ]
  },
  {
   "cell_type": "markdown",
   "metadata": {},
   "source": [
    "- Acrônimo para ***P*** *ractical* ***A*** *lgorithm* ***t*** *o* ***R*** *etrieve* ***I*** *nformation* ***C*** *oded* ***i*** *n* ***A*** *lphanumeric* (Algoritmo Prático para Obter Informação Codificada em Alfanumérico);\n",
    "- Criada por Donald R. Morrison em 1968;\n",
    "- Implementação eficiente da árvore digital binária.\n",
    "\n",
    "Morrison, D. R. (1968). PATRICIA—practical algorithm to retrieve information coded in alphanumeric. Journal of the ACM (JACM), 15(4), 514-534."
   ]
  },
  {
   "cell_type": "markdown",
   "metadata": {},
   "source": [
    "[Voltar ao topo](#Árvore-Patrícia)"
   ]
  },
  {
   "cell_type": "markdown",
   "metadata": {},
   "source": [
    "## Definições e Propriedades"
   ]
  },
  {
   "cell_type": "markdown",
   "metadata": {},
   "source": [
    "Usaremos as sete palavras **casco**, **cascalho**, **cascata**, **dama**, **domando**, **dominar** e **domínio** para representar as árvores."
   ]
  },
  {
   "cell_type": "markdown",
   "metadata": {},
   "source": [
    "- **Árvore Trie:** cada nível representa um caractere\n",
    "    - **Problema:** gera muitos nós.\n",
    "    \n",
    "![](imagens/exemplo_de_trie.jpg)\n",
    "    \n",
    "- **Árvore Radix:** árvore de prefixos.\n",
    "    - **Melhoria:** diminui o número de nós criados.\n",
    "    \n",
    "![](imagens/exemplo_de_radix.jpg)\n",
    "    \n",
    "- **Árvore Patrícia:** uma árvore Trie compacta... em algumas definições.\n",
    "\n",
    "![](imagens/exemplo_de_patricia.png)"
   ]
  },
  {
   "cell_type": "code",
   "execution_count": null,
   "metadata": {},
   "outputs": [],
   "source": []
  }
 ],
 "metadata": {
  "kernelspec": {
   "display_name": "Python 3",
   "language": "python",
   "name": "python3"
  },
  "language_info": {
   "codemirror_mode": {
    "name": "ipython",
    "version": 3
   },
   "file_extension": ".py",
   "mimetype": "text/x-python",
   "name": "python",
   "nbconvert_exporter": "python",
   "pygments_lexer": "ipython3",
   "version": "3.7.3"
  }
 },
 "nbformat": 4,
 "nbformat_minor": 2
}
